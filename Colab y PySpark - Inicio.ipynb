{
  "nbformat": 4,
  "nbformat_minor": 0,
  "metadata": {
    "colab": {
      "name": "Untitled0.ipynb",
      "provenance": [],
      "collapsed_sections": [
        "k89QGd7J7VwQ",
        "Arr81wzs9__C",
        "ZOfr75Rr-g9b"
      ]
    },
    "kernelspec": {
      "name": "python3",
      "display_name": "Python 3"
    }
  },
  "cells": [
    {
      "cell_type": "markdown",
      "metadata": {
        "id": "oVVqay4q7ZnA",
        "colab_type": "text"
      },
      "source": [
        "#**Introduccion a Big Data**\n",
        "##Jugando con Colab & Spark  (Python)\n",
        "\n",
        "De forma bastante practico para utilizar  pyspark en Colab seria ejecutar algunos de los siguientes comandos en una celda en Colab:\n",
        "\n",
        "Haremos lo siguiente :\n",
        "\n",
        "*   Instalacion Rapida Java y Spark\n",
        "*   Configuracion Veloz de Java y Spark\n",
        "*   Ejemplos utilizando PySpark\n"
      ]
    },
    {
      "cell_type": "markdown",
      "metadata": {
        "id": "k89QGd7J7VwQ",
        "colab_type": "text"
      },
      "source": [
        "##Instalar Java y Spark\n",
        "Podemos hacer rapidamente que nuestro entorno de ejecucion implemente Java"
      ]
    },
    {
      "cell_type": "code",
      "metadata": {
        "id": "t42JVLhu7RwK",
        "colab_type": "code",
        "colab": {}
      },
      "source": [
        "!apt-get install openjdk-8-jdk-headless -qq > /dev/null\n"
      ],
      "execution_count": 0,
      "outputs": []
    },
    {
      "cell_type": "markdown",
      "metadata": {
        "id": "2iDa-IbF9gzi",
        "colab_type": "text"
      },
      "source": [
        "Vamos a la direccion web de Apache Spark, obtenemos la version deseada y la desempaquetamos"
      ]
    },
    {
      "cell_type": "code",
      "metadata": {
        "id": "06CCMa0z9Xag",
        "colab_type": "code",
        "colab": {
          "base_uri": "https://localhost:8080/",
          "height": 73
        },
        "outputId": "5c515178-8357-4dd4-e431-57562b39dfb0"
      },
      "source": [
        "import os # libreria de manejo del sistema operativo\n",
        "os.system(\"wget -q https://www-us.apache.org/dist/spark/spark-2.4.5/spark-2.4.5-bin-hadoop2.7.tgz\")\n",
        "os.system(\"tar -xzvf spark-2.4.5-bin-hadoop2.7.tgz\")\n",
        "!ls ##listamos los archivos"
      ],
      "execution_count": 16,
      "outputs": [
        {
          "output_type": "stream",
          "text": [
            "sample_data\t\t       spark-2.4.5-bin-hadoop2.7.tgz.1\n",
            "spark-2.4.5-bin-hadoop2.7      spark-2.4.5-bin-hadoop2.7.tgz.2\n",
            "spark-2.4.5-bin-hadoop2.7.tgz\n"
          ],
          "name": "stdout"
        }
      ]
    },
    {
      "cell_type": "markdown",
      "metadata": {
        "id": "R50XO2tc93zU",
        "colab_type": "text"
      },
      "source": [
        "Ahora instalamos **pyspark**"
      ]
    },
    {
      "cell_type": "code",
      "metadata": {
        "id": "3fm3xpqn96zo",
        "colab_type": "code",
        "colab": {}
      },
      "source": [
        "!pip install -q pyspark\n"
      ],
      "execution_count": 0,
      "outputs": []
    },
    {
      "cell_type": "markdown",
      "metadata": {
        "id": "Arr81wzs9__C",
        "colab_type": "text"
      },
      "source": [
        "##Configuramos las variables de Java y Spark\n"
      ]
    },
    {
      "cell_type": "code",
      "metadata": {
        "id": "bep7dZV6-8Po",
        "colab_type": "code",
        "colab": {
          "base_uri": "https://localhost:8080/",
          "height": 36
        },
        "outputId": "2cbfc3ec-46ff-4cc0-cf81-635d93422d39"
      },
      "source": [
        "!rm spark-2.4.5-bin-hadoop2.7.tgz.1\n",
        "!rm spark-2.4.5-bin-hadoop2.7.tgz.2\n",
        "!ls /content/"
      ],
      "execution_count": 21,
      "outputs": [
        {
          "output_type": "stream",
          "text": [
            "sample_data  spark-2.4.5-bin-hadoop2.7\tspark-2.4.5-bin-hadoop2.7.tgz\n"
          ],
          "name": "stdout"
        }
      ]
    },
    {
      "cell_type": "code",
      "metadata": {
        "id": "7q65rYcm-GPz",
        "colab_type": "code",
        "colab": {}
      },
      "source": [
        "# Variables de Entorno\n",
        "os.environ[\"JAVA_HOME\"] = \"/usr/lib/jvm/java-8-openjdk-amd64\"\n",
        "os.environ[\"SPARK_HOME\"] = f\"/content/spark-2.4.5-bin-hadoop2.7\""
      ],
      "execution_count": 0,
      "outputs": []
    },
    {
      "cell_type": "markdown",
      "metadata": {
        "id": "ZOfr75Rr-g9b",
        "colab_type": "text"
      },
      "source": [
        "#Iniciamos y Utilizamos PySpark\n",
        "\n",
        "Iniciamos con la importacion de lirerias necesarias y la creacion de una sesion de Spark"
      ]
    },
    {
      "cell_type": "code",
      "metadata": {
        "id": "oWvuNcwz-jWj",
        "colab_type": "code",
        "colab": {}
      },
      "source": [
        "# Cargar Pyspark\n",
        "from pyspark.sql import SparkSession\n",
        "spark = SparkSession.builder.appName(\"Test_spark\").master(\"local[*]\").getOrCreate()"
      ],
      "execution_count": 0,
      "outputs": []
    },
    {
      "cell_type": "markdown",
      "metadata": {
        "id": "n0nW5DOyRuqg",
        "colab_type": "text"
      },
      "source": [
        "Imprimimos los valores de la sesion"
      ]
    },
    {
      "cell_type": "code",
      "metadata": {
        "id": "wZXIpIY4RjUm",
        "colab_type": "code",
        "colab": {
          "base_uri": "https://localhost:8080/",
          "height": 224
        },
        "outputId": "5662e1fb-ec12-4224-e8fb-f954098f8b7c"
      },
      "source": [
        "spark"
      ],
      "execution_count": 26,
      "outputs": [
        {
          "output_type": "execute_result",
          "data": {
            "text/html": [
              "\n",
              "            <div>\n",
              "                <p><b>SparkSession - in-memory</b></p>\n",
              "                \n",
              "        <div>\n",
              "            <p><b>SparkContext</b></p>\n",
              "\n",
              "            <p><a href=\"http://ff9f989de030:4040\">Spark UI</a></p>\n",
              "\n",
              "            <dl>\n",
              "              <dt>Version</dt>\n",
              "                <dd><code>v2.4.5</code></dd>\n",
              "              <dt>Master</dt>\n",
              "                <dd><code>local[*]</code></dd>\n",
              "              <dt>AppName</dt>\n",
              "                <dd><code>Test_spark</code></dd>\n",
              "            </dl>\n",
              "        </div>\n",
              "        \n",
              "            </div>\n",
              "        "
            ],
            "text/plain": [
              "<pyspark.sql.session.SparkSession at 0x7fea1927a710>"
            ]
          },
          "metadata": {
            "tags": []
          },
          "execution_count": 26
        }
      ]
    },
    {
      "cell_type": "markdown",
      "metadata": {
        "id": "uiSRvhjFSCZH",
        "colab_type": "text"
      },
      "source": [
        "En la carpeta sample_dara Colab nos ofrece algunos datasets de muestra, damos una mirada rapida al archivo **./sample_data/california_housing_train.csv**\n"
      ]
    },
    {
      "cell_type": "code",
      "metadata": {
        "id": "l2L1GT3ESTUy",
        "colab_type": "code",
        "colab": {
          "base_uri": "https://localhost:8080/",
          "height": 205
        },
        "outputId": "d0c8edfe-2a9a-4008-c300-ae5d7bbf1151"
      },
      "source": [
        "!head -n 10 ./sample_data/california_housing_train.csv"
      ],
      "execution_count": 28,
      "outputs": [
        {
          "output_type": "stream",
          "text": [
            "\"longitude\",\"latitude\",\"housing_median_age\",\"total_rooms\",\"total_bedrooms\",\"population\",\"households\",\"median_income\",\"median_house_value\"\n",
            "-114.310000,34.190000,15.000000,5612.000000,1283.000000,1015.000000,472.000000,1.493600,66900.000000\n",
            "-114.470000,34.400000,19.000000,7650.000000,1901.000000,1129.000000,463.000000,1.820000,80100.000000\n",
            "-114.560000,33.690000,17.000000,720.000000,174.000000,333.000000,117.000000,1.650900,85700.000000\n",
            "-114.570000,33.640000,14.000000,1501.000000,337.000000,515.000000,226.000000,3.191700,73400.000000\n",
            "-114.570000,33.570000,20.000000,1454.000000,326.000000,624.000000,262.000000,1.925000,65500.000000\n",
            "-114.580000,33.630000,29.000000,1387.000000,236.000000,671.000000,239.000000,3.343800,74000.000000\n",
            "-114.580000,33.610000,25.000000,2907.000000,680.000000,1841.000000,633.000000,2.676800,82400.000000\n",
            "-114.590000,34.830000,41.000000,812.000000,168.000000,375.000000,158.000000,1.708300,48500.000000\n",
            "-114.590000,33.610000,34.000000,4789.000000,1175.000000,3134.000000,1056.000000,2.178200,58400.000000\n"
          ],
          "name": "stdout"
        }
      ]
    },
    {
      "cell_type": "code",
      "metadata": {
        "id": "gg0560KuR_p-",
        "colab_type": "code",
        "colab": {
          "base_uri": "https://localhost:8080/",
          "height": 36
        },
        "outputId": "d99cc98d-8979-42ae-a0fd-e84508dd0146"
      },
      "source": [
        "#Cargamos el ARchivo con Spark (en Memoria)\n",
        "archivo = './sample_data/california_housing_train.csv'\n",
        "df_spark = spark.read.csv(archivo, inferSchema=True, header=True)\n",
        "\n",
        "# imprimir tipo de archivo\n",
        "print(type(df_spark))"
      ],
      "execution_count": 29,
      "outputs": [
        {
          "output_type": "stream",
          "text": [
            "<class 'pyspark.sql.dataframe.DataFrame'>\n"
          ],
          "name": "stdout"
        }
      ]
    },
    {
      "cell_type": "markdown",
      "metadata": {
        "id": "9tSNyK81S5Bu",
        "colab_type": "text"
      },
      "source": [
        "###¿Cuantos registros posee este dataframe?"
      ]
    },
    {
      "cell_type": "code",
      "metadata": {
        "id": "9Oizz5AMS9KV",
        "colab_type": "code",
        "colab": {
          "base_uri": "https://localhost:8080/",
          "height": 36
        },
        "outputId": "6cfe425d-e360-4319-e868-a161bfd5cb5a"
      },
      "source": [
        "df_spark.count()"
      ],
      "execution_count": 30,
      "outputs": [
        {
          "output_type": "execute_result",
          "data": {
            "text/plain": [
              "17000"
            ]
          },
          "metadata": {
            "tags": []
          },
          "execution_count": 30
        }
      ]
    },
    {
      "cell_type": "markdown",
      "metadata": {
        "id": "cx7BQH-jTCjT",
        "colab_type": "text"
      },
      "source": [
        "### ¿Cual es la estructura del Dataframe?\n"
      ]
    },
    {
      "cell_type": "code",
      "metadata": {
        "id": "mZw-WwK9TFSp",
        "colab_type": "code",
        "colab": {
          "base_uri": "https://localhost:8080/",
          "height": 223
        },
        "outputId": "a1ecf260-c73b-4562-bfb2-3f09630ee966"
      },
      "source": [
        "df_spark.printSchema()"
      ],
      "execution_count": 31,
      "outputs": [
        {
          "output_type": "stream",
          "text": [
            "root\n",
            " |-- longitude: double (nullable = true)\n",
            " |-- latitude: double (nullable = true)\n",
            " |-- housing_median_age: double (nullable = true)\n",
            " |-- total_rooms: double (nullable = true)\n",
            " |-- total_bedrooms: double (nullable = true)\n",
            " |-- population: double (nullable = true)\n",
            " |-- households: double (nullable = true)\n",
            " |-- median_income: double (nullable = true)\n",
            " |-- median_house_value: double (nullable = true)\n",
            "\n"
          ],
          "name": "stdout"
        }
      ]
    },
    {
      "cell_type": "markdown",
      "metadata": {
        "id": "fHesamtOTNei",
        "colab_type": "text"
      },
      "source": [
        "###¿Cual es el nombre de las columnas?\n"
      ]
    },
    {
      "cell_type": "code",
      "metadata": {
        "id": "nPhAnSEDTQew",
        "colab_type": "code",
        "colab": {
          "base_uri": "https://localhost:8080/",
          "height": 186
        },
        "outputId": "3ef94659-e2e2-427f-87d6-ab84d1435e16"
      },
      "source": [
        "df_spark.columns"
      ],
      "execution_count": 32,
      "outputs": [
        {
          "output_type": "execute_result",
          "data": {
            "text/plain": [
              "['longitude',\n",
              " 'latitude',\n",
              " 'housing_median_age',\n",
              " 'total_rooms',\n",
              " 'total_bedrooms',\n",
              " 'population',\n",
              " 'households',\n",
              " 'median_income',\n",
              " 'median_house_value']"
            ]
          },
          "metadata": {
            "tags": []
          },
          "execution_count": 32
        }
      ]
    },
    {
      "cell_type": "markdown",
      "metadata": {
        "id": "iyp9rWi7TVgO",
        "colab_type": "text"
      },
      "source": [
        "###Mostrar los primeros Registros"
      ]
    },
    {
      "cell_type": "code",
      "metadata": {
        "id": "EUQsj9BFTYrF",
        "colab_type": "code",
        "colab": {
          "base_uri": "https://localhost:8080/",
          "height": 505
        },
        "outputId": "9a8bed2f-862a-4a35-c252-1c8c37fbc454"
      },
      "source": [
        "#Ver los primeros 20 registros del dataframe\n",
        "df_spark.show()"
      ],
      "execution_count": 34,
      "outputs": [
        {
          "output_type": "stream",
          "text": [
            "+---------+--------+------------------+-----------+--------------+----------+----------+-------------+------------------+\n",
            "|longitude|latitude|housing_median_age|total_rooms|total_bedrooms|population|households|median_income|median_house_value|\n",
            "+---------+--------+------------------+-----------+--------------+----------+----------+-------------+------------------+\n",
            "|  -114.31|   34.19|              15.0|     5612.0|        1283.0|    1015.0|     472.0|       1.4936|           66900.0|\n",
            "|  -114.47|    34.4|              19.0|     7650.0|        1901.0|    1129.0|     463.0|         1.82|           80100.0|\n",
            "|  -114.56|   33.69|              17.0|      720.0|         174.0|     333.0|     117.0|       1.6509|           85700.0|\n",
            "|  -114.57|   33.64|              14.0|     1501.0|         337.0|     515.0|     226.0|       3.1917|           73400.0|\n",
            "|  -114.57|   33.57|              20.0|     1454.0|         326.0|     624.0|     262.0|        1.925|           65500.0|\n",
            "|  -114.58|   33.63|              29.0|     1387.0|         236.0|     671.0|     239.0|       3.3438|           74000.0|\n",
            "|  -114.58|   33.61|              25.0|     2907.0|         680.0|    1841.0|     633.0|       2.6768|           82400.0|\n",
            "|  -114.59|   34.83|              41.0|      812.0|         168.0|     375.0|     158.0|       1.7083|           48500.0|\n",
            "|  -114.59|   33.61|              34.0|     4789.0|        1175.0|    3134.0|    1056.0|       2.1782|           58400.0|\n",
            "|   -114.6|   34.83|              46.0|     1497.0|         309.0|     787.0|     271.0|       2.1908|           48100.0|\n",
            "|   -114.6|   33.62|              16.0|     3741.0|         801.0|    2434.0|     824.0|       2.6797|           86500.0|\n",
            "|   -114.6|    33.6|              21.0|     1988.0|         483.0|    1182.0|     437.0|        1.625|           62000.0|\n",
            "|  -114.61|   34.84|              48.0|     1291.0|         248.0|     580.0|     211.0|       2.1571|           48600.0|\n",
            "|  -114.61|   34.83|              31.0|     2478.0|         464.0|    1346.0|     479.0|        3.212|           70400.0|\n",
            "|  -114.63|   32.76|              15.0|     1448.0|         378.0|     949.0|     300.0|       0.8585|           45000.0|\n",
            "|  -114.65|   34.89|              17.0|     2556.0|         587.0|    1005.0|     401.0|       1.6991|           69100.0|\n",
            "|  -114.65|    33.6|              28.0|     1678.0|         322.0|     666.0|     256.0|       2.9653|           94900.0|\n",
            "|  -114.65|   32.79|              21.0|       44.0|          33.0|      64.0|      27.0|       0.8571|           25000.0|\n",
            "|  -114.66|   32.74|              17.0|     1388.0|         386.0|     775.0|     320.0|       1.2049|           44000.0|\n",
            "|  -114.67|   33.92|              17.0|       97.0|          24.0|      29.0|      15.0|       1.2656|           27500.0|\n",
            "+---------+--------+------------------+-----------+--------------+----------+----------+-------------+------------------+\n",
            "only showing top 20 rows\n",
            "\n"
          ],
          "name": "stdout"
        }
      ]
    },
    {
      "cell_type": "markdown",
      "metadata": {
        "id": "U9UvaplITlQy",
        "colab_type": "text"
      },
      "source": [
        "###Hagamos una Descricipcion Estadistica del dataframe"
      ]
    },
    {
      "cell_type": "code",
      "metadata": {
        "id": "uSxkd9UPTjlR",
        "colab_type": "code",
        "colab": {
          "base_uri": "https://localhost:8080/",
          "height": 363
        },
        "outputId": "ca7ea968-394b-4218-ffc4-a7f379e7d72c"
      },
      "source": [
        "df_spark.describe().toPandas().transpose()\n"
      ],
      "execution_count": 35,
      "outputs": [
        {
          "output_type": "execute_result",
          "data": {
            "text/html": [
              "<div>\n",
              "<style scoped>\n",
              "    .dataframe tbody tr th:only-of-type {\n",
              "        vertical-align: middle;\n",
              "    }\n",
              "\n",
              "    .dataframe tbody tr th {\n",
              "        vertical-align: top;\n",
              "    }\n",
              "\n",
              "    .dataframe thead th {\n",
              "        text-align: right;\n",
              "    }\n",
              "</style>\n",
              "<table border=\"1\" class=\"dataframe\">\n",
              "  <thead>\n",
              "    <tr style=\"text-align: right;\">\n",
              "      <th></th>\n",
              "      <th>0</th>\n",
              "      <th>1</th>\n",
              "      <th>2</th>\n",
              "      <th>3</th>\n",
              "      <th>4</th>\n",
              "    </tr>\n",
              "  </thead>\n",
              "  <tbody>\n",
              "    <tr>\n",
              "      <th>summary</th>\n",
              "      <td>count</td>\n",
              "      <td>mean</td>\n",
              "      <td>stddev</td>\n",
              "      <td>min</td>\n",
              "      <td>max</td>\n",
              "    </tr>\n",
              "    <tr>\n",
              "      <th>longitude</th>\n",
              "      <td>17000</td>\n",
              "      <td>-119.56210823529375</td>\n",
              "      <td>2.0051664084260357</td>\n",
              "      <td>-124.35</td>\n",
              "      <td>-114.31</td>\n",
              "    </tr>\n",
              "    <tr>\n",
              "      <th>latitude</th>\n",
              "      <td>17000</td>\n",
              "      <td>35.6252247058827</td>\n",
              "      <td>2.1373397946570867</td>\n",
              "      <td>32.54</td>\n",
              "      <td>41.95</td>\n",
              "    </tr>\n",
              "    <tr>\n",
              "      <th>housing_median_age</th>\n",
              "      <td>17000</td>\n",
              "      <td>28.58935294117647</td>\n",
              "      <td>12.586936981660406</td>\n",
              "      <td>1.0</td>\n",
              "      <td>52.0</td>\n",
              "    </tr>\n",
              "    <tr>\n",
              "      <th>total_rooms</th>\n",
              "      <td>17000</td>\n",
              "      <td>2643.664411764706</td>\n",
              "      <td>2179.947071452777</td>\n",
              "      <td>2.0</td>\n",
              "      <td>37937.0</td>\n",
              "    </tr>\n",
              "    <tr>\n",
              "      <th>total_bedrooms</th>\n",
              "      <td>17000</td>\n",
              "      <td>539.4108235294118</td>\n",
              "      <td>421.4994515798648</td>\n",
              "      <td>1.0</td>\n",
              "      <td>6445.0</td>\n",
              "    </tr>\n",
              "    <tr>\n",
              "      <th>population</th>\n",
              "      <td>17000</td>\n",
              "      <td>1429.5739411764705</td>\n",
              "      <td>1147.852959159527</td>\n",
              "      <td>3.0</td>\n",
              "      <td>35682.0</td>\n",
              "    </tr>\n",
              "    <tr>\n",
              "      <th>households</th>\n",
              "      <td>17000</td>\n",
              "      <td>501.2219411764706</td>\n",
              "      <td>384.5208408559016</td>\n",
              "      <td>1.0</td>\n",
              "      <td>6082.0</td>\n",
              "    </tr>\n",
              "    <tr>\n",
              "      <th>median_income</th>\n",
              "      <td>17000</td>\n",
              "      <td>3.883578100000021</td>\n",
              "      <td>1.9081565183791036</td>\n",
              "      <td>0.4999</td>\n",
              "      <td>15.0001</td>\n",
              "    </tr>\n",
              "    <tr>\n",
              "      <th>median_house_value</th>\n",
              "      <td>17000</td>\n",
              "      <td>207300.91235294117</td>\n",
              "      <td>115983.76438720895</td>\n",
              "      <td>14999.0</td>\n",
              "      <td>500001.0</td>\n",
              "    </tr>\n",
              "  </tbody>\n",
              "</table>\n",
              "</div>"
            ],
            "text/plain": [
              "                        0                    1  ...        3         4\n",
              "summary             count                 mean  ...      min       max\n",
              "longitude           17000  -119.56210823529375  ...  -124.35   -114.31\n",
              "latitude            17000     35.6252247058827  ...    32.54     41.95\n",
              "housing_median_age  17000    28.58935294117647  ...      1.0      52.0\n",
              "total_rooms         17000    2643.664411764706  ...      2.0   37937.0\n",
              "total_bedrooms      17000    539.4108235294118  ...      1.0    6445.0\n",
              "population          17000   1429.5739411764705  ...      3.0   35682.0\n",
              "households          17000    501.2219411764706  ...      1.0    6082.0\n",
              "median_income       17000    3.883578100000021  ...   0.4999   15.0001\n",
              "median_house_value  17000   207300.91235294117  ...  14999.0  500001.0\n",
              "\n",
              "[10 rows x 5 columns]"
            ]
          },
          "metadata": {
            "tags": []
          },
          "execution_count": 35
        }
      ]
    },
    {
      "cell_type": "code",
      "metadata": {
        "id": "3eeW1eIaW8SB",
        "colab_type": "code",
        "colab": {
          "base_uri": "https://localhost:8080/",
          "height": 225
        },
        "outputId": "905a4cf7-4a9e-4a70-bca4-bd03bbf2e94b"
      },
      "source": [
        "df_spark.describe().show()"
      ],
      "execution_count": 43,
      "outputs": [
        {
          "output_type": "stream",
          "text": [
            "+-------+-------------------+------------------+------------------+-----------------+-----------------+------------------+-----------------+------------------+------------------+\n",
            "|summary|          longitude|          latitude|housing_median_age|      total_rooms|   total_bedrooms|        population|       households|     median_income|median_house_value|\n",
            "+-------+-------------------+------------------+------------------+-----------------+-----------------+------------------+-----------------+------------------+------------------+\n",
            "|  count|              17000|             17000|             17000|            17000|            17000|             17000|            17000|             17000|             17000|\n",
            "|   mean|-119.56210823529375|  35.6252247058827| 28.58935294117647|2643.664411764706|539.4108235294118|1429.5739411764705|501.2219411764706| 3.883578100000021|207300.91235294117|\n",
            "| stddev| 2.0051664084260357|2.1373397946570867|12.586936981660406|2179.947071452777|421.4994515798648| 1147.852959159527|384.5208408559016|1.9081565183791036|115983.76438720895|\n",
            "|    min|            -124.35|             32.54|               1.0|              2.0|              1.0|               3.0|              1.0|            0.4999|           14999.0|\n",
            "|    max|            -114.31|             41.95|              52.0|          37937.0|           6445.0|           35682.0|           6082.0|           15.0001|          500001.0|\n",
            "+-------+-------------------+------------------+------------------+-----------------+-----------------+------------------+-----------------+------------------+------------------+\n",
            "\n"
          ],
          "name": "stdout"
        }
      ]
    },
    {
      "cell_type": "code",
      "metadata": {
        "id": "WK49QBRGUM_K",
        "colab_type": "code",
        "colab": {
          "base_uri": "https://localhost:8080/",
          "height": 205
        },
        "outputId": "13b099c1-e8b4-4a90-a760-46cb2c5f6325"
      },
      "source": [
        "df_spark.describe(['median_house_value']).show()"
      ],
      "execution_count": 36,
      "outputs": [
        {
          "output_type": "stream",
          "text": [
            "+-------+------------------+\n",
            "|summary|median_house_value|\n",
            "+-------+------------------+\n",
            "|  count|             17000|\n",
            "|   mean|207300.91235294117|\n",
            "| stddev|115983.76438720895|\n",
            "|    min|           14999.0|\n",
            "|    max|          500001.0|\n",
            "+-------+------------------+\n",
            "\n"
          ],
          "name": "stdout"
        }
      ]
    },
    {
      "cell_type": "markdown",
      "metadata": {
        "id": "YEqzYPLAWdy3",
        "colab_type": "text"
      },
      "source": [
        "###Generacion de Datos Aleatorios\n",
        "La generación de datos aleatorios es útil para probar algoritmos existentes e implementar algoritmos aleatorios, como la proyección aleatoria. **Spark** proporciona métodos para generar columnas que contienen valores extraídos de una distribución, por ejemplo, uniforme (rand) y normal estándar (randn)."
      ]
    },
    {
      "cell_type": "code",
      "metadata": {
        "id": "yp7sLZk4V6lG",
        "colab_type": "code",
        "colab": {
          "base_uri": "https://localhost:8080/",
          "height": 299
        },
        "outputId": "b2735c76-f48f-4216-8cb8-9fa21c853f9e"
      },
      "source": [
        "df = spark.range(0, 10)\n",
        "df.show()"
      ],
      "execution_count": 37,
      "outputs": [
        {
          "output_type": "stream",
          "text": [
            "+---+\n",
            "| id|\n",
            "+---+\n",
            "|  0|\n",
            "|  1|\n",
            "|  2|\n",
            "|  3|\n",
            "|  4|\n",
            "|  5|\n",
            "|  6|\n",
            "|  7|\n",
            "|  8|\n",
            "|  9|\n",
            "+---+\n",
            "\n"
          ],
          "name": "stdout"
        }
      ]
    },
    {
      "cell_type": "code",
      "metadata": {
        "id": "vacC0IraWIZx",
        "colab_type": "code",
        "colab": {
          "base_uri": "https://localhost:8080/",
          "height": 299
        },
        "outputId": "ceed7021-9bf7-49a3-8a81-95f23c06960d"
      },
      "source": [
        "from pyspark.sql.functions import rand, randn\n",
        "\n",
        "df.select(\"id\", rand(seed=10).alias(\"uniform\"), randn(seed=27).alias(\"normal\")).show()"
      ],
      "execution_count": 39,
      "outputs": [
        {
          "output_type": "stream",
          "text": [
            "+---+-------------------+--------------------+\n",
            "| id|            uniform|              normal|\n",
            "+---+-------------------+--------------------+\n",
            "|  0|0.41371264720975787|  0.5888539012978773|\n",
            "|  1| 0.7311719281896606|  0.8645537008427937|\n",
            "|  2| 0.9031701155118229|  1.2524569684217643|\n",
            "|  3|0.09430205113458567|  -2.573636861034734|\n",
            "|  4|0.38340505276222947|  0.5469737451926588|\n",
            "|  5| 0.1982919638208397| 0.06157382353970104|\n",
            "|  6|0.12714181165849525|  0.3623040918178586|\n",
            "|  7| 0.7604318153406678|-0.49575204523675975|\n",
            "|  8|   0.83487085888236|   1.022815424084479|\n",
            "|  9| 0.3142596916968412|   2.750429557170309|\n",
            "+---+-------------------+--------------------+\n",
            "\n"
          ],
          "name": "stdout"
        }
      ]
    },
    {
      "cell_type": "markdown",
      "metadata": {
        "id": "OZZczhLFUUXD",
        "colab_type": "text"
      },
      "source": [
        "De esta forma se puede instalar automaticamente spark en google colab y hacer uno de el de forma gratis.\n",
        "\n",
        "En la version gratis solo se cuenta con una CPU si se quiere aumentar la capacidad de procesamiento es necesario pagar."
      ]
    }
  ]
}